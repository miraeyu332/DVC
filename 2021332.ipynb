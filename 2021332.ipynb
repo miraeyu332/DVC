{
 "cells": [
  {
   "cell_type": "code",
   "execution_count": 47,
   "id": "b63faa83-751b-4f23-a321-130edeeb5a5e",
   "metadata": {},
   "outputs": [
    {
     "name": "stderr",
     "output_type": "stream",
     "text": [
      "Cloning into 'DVC'...\n",
      "warning: You appear to have cloned an empty repository.\n"
     ]
    }
   ],
   "source": [
    "! git clone https://github.com/miraeyu332/DVC.git"
   ]
  },
  {
   "cell_type": "code",
   "execution_count": 1,
   "id": "3995884e-7bd9-4368-a941-c1d82f17b4a6",
   "metadata": {},
   "outputs": [
    {
     "name": "stdout",
     "output_type": "stream",
     "text": [
      "Requirement already satisfied: pandas in c:\\users\\rae10\\anaconda3\\lib\\site-packages (2.2.2)\n",
      "Requirement already satisfied: numpy>=1.26.0 in c:\\users\\rae10\\anaconda3\\lib\\site-packages (from pandas) (1.26.4)\n",
      "Requirement already satisfied: python-dateutil>=2.8.2 in c:\\users\\rae10\\anaconda3\\lib\\site-packages (from pandas) (2.9.0.post0)\n",
      "Requirement already satisfied: pytz>=2020.1 in c:\\users\\rae10\\anaconda3\\lib\\site-packages (from pandas) (2024.1)\n",
      "Requirement already satisfied: tzdata>=2022.7 in c:\\users\\rae10\\anaconda3\\lib\\site-packages (from pandas) (2023.3)\n",
      "Requirement already satisfied: six>=1.5 in c:\\users\\rae10\\anaconda3\\lib\\site-packages (from python-dateutil>=2.8.2->pandas) (1.16.0)\n"
     ]
    }
   ],
   "source": [
    "!pip install pandas"
   ]
  },
  {
   "cell_type": "code",
   "execution_count": 3,
   "id": "185a593f-aea7-40ef-b193-952bfdc8bf64",
   "metadata": {},
   "outputs": [
    {
     "name": "stdout",
     "output_type": "stream",
     "text": [
      "Requirement already satisfied: openpyxl in c:\\users\\rae10\\anaconda3\\lib\\site-packages (3.1.2)\n",
      "Requirement already satisfied: et-xmlfile in c:\\users\\rae10\\anaconda3\\lib\\site-packages (from openpyxl) (1.1.0)\n",
      "Note: you may need to restart the kernel to use updated packages.\n"
     ]
    }
   ],
   "source": [
    "pip install openpyxl"
   ]
  },
  {
   "cell_type": "code",
   "execution_count": 3,
   "id": "479793cd-92ff-4c5a-9ec2-367b9da12067",
   "metadata": {},
   "outputs": [],
   "source": [
    "import pandas as pd\n",
    "import numpy as np\n",
    "import matplotlib.pyplot as plt"
   ]
  },
  {
   "cell_type": "code",
   "execution_count": 23,
   "id": "2bf7e562-8184-4390-ad9a-8d4ff745b05d",
   "metadata": {},
   "outputs": [
    {
     "name": "stdout",
     "output_type": "stream",
     "text": [
      "C:\\Users\\rae10\\Desktop\\Data Visualisation & Communication\n"
     ]
    }
   ],
   "source": [
    "import os\n",
    "print(os.getcwd())\n"
   ]
  },
  {
   "cell_type": "code",
   "execution_count": 41,
   "id": "9f880aba-775e-4d5e-9a84-db76bd594e55",
   "metadata": {},
   "outputs": [],
   "source": [
    "file_path = \"C:/Users/rae10/Desktop/Data Visualisation & Communication/all_data.xlsx\""
   ]
  },
  {
   "cell_type": "code",
   "execution_count": 43,
   "id": "5802aa0f-9c0e-4dcc-983c-6a13328ce604",
   "metadata": {},
   "outputs": [
    {
     "ename": "SyntaxError",
     "evalue": "invalid syntax (747124137.py, line 1)",
     "output_type": "error",
     "traceback": [
      "\u001b[1;36m  Cell \u001b[1;32mIn[43], line 1\u001b[1;36m\u001b[0m\n\u001b[1;33m    data_df = pd.read_excel(C:/Users/rae10/Desktop/Data Visualisation & Communication/all_data.xlsx)\u001b[0m\n\u001b[1;37m                             ^\u001b[0m\n\u001b[1;31mSyntaxError\u001b[0m\u001b[1;31m:\u001b[0m invalid syntax\n"
     ]
    }
   ],
   "source": [
    "data_df = pd.read_excel(C:/Users/rae10/Desktop/Data Visualisation & Communication/all_data.xlsx)\n",
    "print(data_df.head())"
   ]
  },
  {
   "cell_type": "code",
   "execution_count": 37,
   "id": "191daed4-4055-4163-97e8-d5cc6581c752",
   "metadata": {},
   "outputs": [
    {
     "name": "stdout",
     "output_type": "stream",
     "text": [
      "           AREA                                         AREA_TITLE  AREA_TYPE  \\\n",
      "0            99                                               U.S.          1   \n",
      "1            99                                               U.S.          1   \n",
      "2            99                                               U.S.          1   \n",
      "3            99                                               U.S.          1   \n",
      "4            99                                               U.S.          1   \n",
      "...         ...                                                ...        ...   \n",
      "413322  4800006  Coastal Plains Region of Texas nonmetropolitan...          6   \n",
      "413323  5500001        Northwestern Wisconsin nonmetropolitan area          6   \n",
      "413324  5500002        Northeastern Wisconsin nonmetropolitan area          6   \n",
      "413325  5500003       South Central Wisconsin nonmetropolitan area          6   \n",
      "413326  5500004             Western Wisconsin nonmetropolitan area          6   \n",
      "\n",
      "       PRIM_STATE   NAICS     NAICS_TITLE         I_GROUP  OWN_CODE OCC_CODE  \\\n",
      "0              US  000000  Cross-industry  cross-industry      1235  00-0000   \n",
      "1              US  000000  Cross-industry  cross-industry      1235  11-0000   \n",
      "2              US  000000  Cross-industry  cross-industry      1235  11-1000   \n",
      "3              US  000000  Cross-industry  cross-industry      1235  11-1010   \n",
      "4              US  000000  Cross-industry  cross-industry      1235  11-1011   \n",
      "...           ...     ...             ...             ...       ...      ...   \n",
      "413322         TX  000000  Cross-industry  cross-industry      1235  53-7199   \n",
      "413323         WI  000000  Cross-industry  cross-industry      1235  53-7199   \n",
      "413324         WI  000000  Cross-industry  cross-industry      1235  53-7199   \n",
      "413325         WI  000000  Cross-industry  cross-industry      1235  53-7199   \n",
      "413326         WI  000000  Cross-industry  cross-industry      1235  53-7199   \n",
      "\n",
      "                                 OCC_TITLE  ... H_MEDIAN H_PCT75 H_PCT90  \\\n",
      "0                          All Occupations  ...    23.11   37.01    58.4   \n",
      "1                   Management Occupations  ...    56.19   81.29  111.36   \n",
      "2                           Top Executives  ...    49.74   79.57       #   \n",
      "3                         Chief Executives  ...    99.37       #       #   \n",
      "4                         Chief Executives  ...    99.37       #       #   \n",
      "...                                    ...  ...      ...     ...     ...   \n",
      "413322  Material Moving Workers, All Other  ...    17.45   18.74   20.54   \n",
      "413323  Material Moving Workers, All Other  ...    15.39   19.25      22   \n",
      "413324  Material Moving Workers, All Other  ...    14.11   18.29   26.99   \n",
      "413325  Material Moving Workers, All Other  ...    15.94   18.55   20.54   \n",
      "413326  Material Moving Workers, All Other  ...    16.42   26.99   29.69   \n",
      "\n",
      "       A_PCT10 A_PCT25 A_MEDIAN A_PCT75 A_PCT90 ANNUAL HOURLY  \n",
      "0        29050   35660    48060   76980  121470    NaN    NaN  \n",
      "1        54550   78330   116880  169090  231620    NaN    NaN  \n",
      "2        46400   66170   103460  165500       #    NaN    NaN  \n",
      "3        80000  130840   206680       #       #    NaN    NaN  \n",
      "4        80000  130840   206680       #       #    NaN    NaN  \n",
      "...        ...     ...      ...     ...     ...    ...    ...  \n",
      "413322   29680   30910    36290   38980   42720    NaN    NaN  \n",
      "413323   27770   30180    32020   40040   45760    NaN    NaN  \n",
      "413324   20290   25080    29350   38050   56130    NaN    NaN  \n",
      "413325   28380   32680    33150   38590   42730    NaN    NaN  \n",
      "413326   22130   28790    34160   56130   61740    NaN    NaN  \n",
      "\n",
      "[413327 rows x 32 columns]\n"
     ]
    }
   ],
   "source": []
  },
  {
   "cell_type": "code",
   "execution_count": null,
   "id": "0e2edb49-65c2-44d8-86bb-efcd6c898abb",
   "metadata": {},
   "outputs": [],
   "source": []
  }
 ],
 "metadata": {
  "kernelspec": {
   "display_name": "Python 3 (ipykernel)",
   "language": "python",
   "name": "python3"
  },
  "language_info": {
   "codemirror_mode": {
    "name": "ipython",
    "version": 3
   },
   "file_extension": ".py",
   "mimetype": "text/x-python",
   "name": "python",
   "nbconvert_exporter": "python",
   "pygments_lexer": "ipython3",
   "version": "3.12.4"
  }
 },
 "nbformat": 4,
 "nbformat_minor": 5
}
